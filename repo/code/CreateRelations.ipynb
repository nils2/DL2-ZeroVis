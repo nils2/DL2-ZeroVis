{
 "cells": [
  {
   "attachments": {},
   "cell_type": "markdown",
   "id": "95b0a75c",
   "metadata": {},
   "source": [
    "This notebook was used to create a dictionary of all the relations specified in the Visual Relations Benchmark dataset."
   ]
  },
  {
   "attachments": {},
   "cell_type": "markdown",
   "id": "5a6a8474",
   "metadata": {},
   "source": [
    "### Load modules"
   ]
  },
  {
   "cell_type": "code",
   "execution_count": 1,
   "id": "e9452899",
   "metadata": {},
   "outputs": [],
   "source": [
    "import pickle"
   ]
  },
  {
   "attachments": {},
   "cell_type": "markdown",
   "id": "95f03e6c",
   "metadata": {},
   "source": [
    "### Load the defined relations of the benchmark"
   ]
  },
  {
   "cell_type": "code",
   "execution_count": 2,
   "id": "8da2bd5d",
   "metadata": {},
   "outputs": [],
   "source": [
    "\n",
    "relations = {}\n",
    "\n",
    "Capitals = [('countries/china', 'cities/beijing'),\n",
    "('countries/egypt', 'cities/cairo'),\n",
    "('countries/australia', 'cities/canberra'),\n",
    "('countries/cuba', 'cities/havana'),\n",
    "('countries/afghanistan', 'cities/kabul'),\n",
    "('countries/england', 'cities/london'),\n",
    "('countries/japan', 'cities/tokyo'),\n",
    "('countries/russia', 'cities/moscow'),\n",
    "('countries/france', 'cities/paris'),\n",
    "('countries/usa', 'cities/washington'), # corrected typo\n",
    "('countries/germany', 'cities/berlin'),\n",
    "('countries/thailand', 'cities/bangkok')]\n",
    "\n",
    "Companies = [('companies/facebook', 'CEOs/mark_zuckerberg'),\n",
    "('companies/microsoft', 'CEOs/bill_gates'),\n",
    "('companies/tesla', 'CEOs/elon_musk'),\n",
    "('companies/amazon', 'CEOs/jeff_bezos'),\n",
    "('companies/apple', 'CEOs/steve_jobs')]\n",
    "\n",
    "Food = [('countries/france', 'food/baguette'),\n",
    "('countries/japan', 'food/sushi'),\n",
    "('countries/italy', 'food/pizza')]\n",
    "\n",
    "Buildings = [('countries/usa', 'building/capitol'),\n",
    "('countries/china', 'building/china_wall'),\n",
    "('countries/italy', 'building/colosseum'),\n",
    "('countries/france', 'building/eiffle'),\n",
    "('countries/russia', 'building/kremlin'),\n",
    "('countries/italy', 'building/pisa'),\n",
    "('countries/egypt', 'building/pyramid'),\n",
    "('countries/india', 'building/taj_mahal')]\n",
    "\n",
    "Leaders = [('countries/germany', 'leaders/angela_merkel'),\n",
    "('countries/england', 'leaders/boris_johnson'),\n",
    "('countries/england', 'leaders/david_cameron'),\n",
    "('countries/usa', 'leaders/hillary'),\n",
    "('countries/canada', 'leaders/justin_trudeau'),\n",
    "('countries/usa', 'leaders/obama'),\n",
    "('countries/russia', 'leaders/putin'),\n",
    "('countries/england', 'leaders/queen_elizabeth'),\n",
    "('countries/usa', 'leaders/trump'),\n",
    "('countries/china', 'leaders/xi_jinping')]"
   ]
  },
  {
   "attachments": {},
   "cell_type": "markdown",
   "id": "69aa50ec",
   "metadata": {},
   "source": [
    "### Create and save the dictionary"
   ]
  },
  {
   "cell_type": "code",
   "execution_count": 3,
   "id": "f0dc1a53",
   "metadata": {},
   "outputs": [
    {
     "name": "stdout",
     "output_type": "stream",
     "text": [
      "{'companies -> CEOs': [('companies/facebook', 'CEOs/mark_zuckerberg'), ('companies/microsoft', 'CEOs/bill_gates'), ('companies/tesla', 'CEOs/elon_musk'), ('companies/amazon', 'CEOs/jeff_bezos'), ('companies/apple', 'CEOs/steve_jobs')], 'countries -> capital': [('countries/china', 'cities/beijing'), ('countries/egypt', 'cities/cairo'), ('countries/australia', 'cities/canberra'), ('countries/cuba', 'cities/havana'), ('countries/afghanistan', 'cities/kabul'), ('countries/england', 'cities/london'), ('countries/japan', 'cities/tokyo'), ('countries/russia', 'cities/moscow'), ('countries/france', 'cities/paris'), ('countries/usa', 'cities/washington'), ('countries/germany', 'cities/berlin'), ('countries/thailand', 'cities/bangkok')], 'countries -> food': [('countries/france', 'food/baguette'), ('countries/japan', 'food/sushi'), ('countries/italy', 'food/pizza')], 'countries -> building': [('countries/usa', 'building/capitol'), ('countries/china', 'building/china_wall'), ('countries/italy', 'building/colosseum'), ('countries/france', 'building/eiffle'), ('countries/russia', 'building/kremlin'), ('countries/italy', 'building/pisa'), ('countries/egypt', 'building/pyramid'), ('countries/india', 'building/taj_mahal')], 'countries -> leaders': [('countries/germany', 'leaders/angela_merkel'), ('countries/england', 'leaders/boris_johnson'), ('countries/england', 'leaders/david_cameron'), ('countries/usa', 'leaders/hillary'), ('countries/canada', 'leaders/justin_trudeau'), ('countries/usa', 'leaders/obama'), ('countries/russia', 'leaders/putin'), ('countries/england', 'leaders/queen_elizabeth'), ('countries/usa', 'leaders/trump'), ('countries/china', 'leaders/xi_jinping')]}\n"
     ]
    }
   ],
   "source": [
    "relations[\"companies -> CEOs\"] = Companies\n",
    "relations[\"countries -> capital\"] = Capitals\n",
    "relations[\"countries -> food\"] = Food\n",
    "relations[\"countries -> building\"] = Buildings\n",
    "relations[\"countries -> leaders\"] = Leaders\n",
    "print(relations)"
   ]
  },
  {
   "cell_type": "code",
   "execution_count": 4,
   "id": "45e8ffab",
   "metadata": {},
   "outputs": [
    {
     "name": "stdout",
     "output_type": "stream",
     "text": [
      "dictionary saved successfully to file\n"
     ]
    }
   ],
   "source": [
    "with open('relations_dict.pkl', 'wb') as fp:\n",
    "    pickle.dump(relations, fp)\n",
    "    print('dictionary saved successfully to file')"
   ]
  }
 ],
 "metadata": {
  "kernelspec": {
   "display_name": "Python 3 (ipykernel)",
   "language": "python",
   "name": "python3"
  },
  "language_info": {
   "codemirror_mode": {
    "name": "ipython",
    "version": 3
   },
   "file_extension": ".py",
   "mimetype": "text/x-python",
   "name": "python",
   "nbconvert_exporter": "python",
   "pygments_lexer": "ipython3",
   "version": "3.10.11"
  }
 },
 "nbformat": 4,
 "nbformat_minor": 5
}
