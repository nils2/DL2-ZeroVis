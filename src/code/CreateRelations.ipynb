{
 "cells": [
  {
   "attachments": {},
   "cell_type": "markdown",
   "id": "95b0a75c",
   "metadata": {},
   "source": [
    "This notebook was used to create a dictionary of all the relations specified in the Visual Relations Benchmark dataset."
   ]
  },
  {
   "attachments": {},
   "cell_type": "markdown",
   "id": "5a6a8474",
   "metadata": {},
   "source": [
    "### Load modules"
   ]
  },
  {
   "cell_type": "code",
   "execution_count": 1,
   "id": "e9452899",
   "metadata": {},
   "outputs": [],
   "source": [
    "import pickle"
   ]
  },
  {
   "attachments": {},
   "cell_type": "markdown",
   "id": "95f03e6c",
   "metadata": {},
   "source": [
    "### Load the defined relations of the benchmark"
   ]
  },
  {
   "cell_type": "code",
   "execution_count": 2,
   "id": "8da2bd5d",
   "metadata": {},
   "outputs": [],
   "source": [
    "\n",
    "relations = {}\n",
    "\n",
    "Capitals = [('flags/china', 'cities/beijing'),\n",
    "('flags/egypt', 'cities/cairo'),\n",
    "('flags/australia', 'cities/canberra'),\n",
    "('flags/cuba', 'cities/havana'),\n",
    "('flags/afghanistan', 'cities/kabul'),\n",
    "('flags/england', 'cities/london'),\n",
    "('flags/japan', 'cities/tokyo'),\n",
    "('flags/russia', 'cities/moscow'),\n",
    "('flags/france', 'cities/paris'),\n",
    "('flags/usa', 'cities/washington'), # corrected typo\n",
    "('flags/germany', 'cities/berlin'),\n",
    "('flags/thailand', 'cities/bangkok')]\n",
    "\n",
    "Companies = [('CEOs/mark_zuckerberg', 'companies/facebook'),\n",
    "('CEOs/bill_gates', 'companies/microsoft'),\n",
    "('CEOs/elon_musk', 'companies/tesla'),\n",
    "('CEOs/jeff_bezos', 'companies/amazon'),\n",
    "('CEOs/steve_jobs', 'companies/apple')]\n",
    "\n",
    "Food = [('food/baguette', 'countries/france'),\n",
    "('food/sushi', 'countries/japan'),\n",
    "('food/pizza', 'countries/italy')]\n",
    "\n",
    "Buildings = [('building/capitol', 'countries/usa'),\n",
    "('building/china_wall', 'countries/china'),\n",
    "('building/colosseum', 'countries/italy', ),\n",
    "('building/eiffle', 'countries/france'),\n",
    "('building/kremlin', 'countries/russia'),\n",
    "('building/pisa', 'countries/italy'),\n",
    "('building/pyramid', 'countries/egypt'),\n",
    "('building/taj_mahal', 'countries/india')]\n",
    "\n",
    "Leaders = [('leaders/angela_merkel', 'flags/germany'),\n",
    "('leaders/boris_johnson', 'flags/england'),\n",
    "('leaders/david_cameron', 'flags/england'),\n",
    "('leaders/hillary', 'flags/usa'),\n",
    "('leaders/justin_trudeau', 'flags/canada'),\n",
    "('leaders/obama', 'flags/usa'),\n",
    "('leaders/putin', 'flags/russia'),\n",
    "('leaders/queen_elizabeth', 'flags/england'),\n",
    "('leaders/trump', 'flags/usa'),\n",
    "('leaders/xi_jinping', 'flags/china')]"
   ]
  },
  {
   "attachments": {},
   "cell_type": "markdown",
   "id": "69aa50ec",
   "metadata": {},
   "source": [
    "### Create and save the dictionary"
   ]
  },
  {
   "cell_type": "code",
   "execution_count": 3,
   "id": "f0dc1a53",
   "metadata": {},
   "outputs": [
    {
     "name": "stdout",
     "output_type": "stream",
     "text": [
      "{'CEOs -> companies': [('CEOs/mark_zuckerberg', 'companies/facebook'), ('CEOs/bill_gates', 'companies/microsoft'), ('CEOs/elon_musk', 'companies/tesla'), ('CEOs/jeff_bezos', 'companies/amazon'), ('CEOs/steve_jobs', 'companies/apple')], 'flags -> capital': [('flags/china', 'cities/beijing'), ('flags/egypt', 'cities/cairo'), ('flags/australia', 'cities/canberra'), ('flags/cuba', 'cities/havana'), ('flags/afghanistan', 'cities/kabul'), ('flags/england', 'cities/london'), ('flags/japan', 'cities/tokyo'), ('flags/russia', 'cities/moscow'), ('flags/france', 'cities/paris'), ('flags/usa', 'cities/washington'), ('flags/germany', 'cities/berlin'), ('flags/thailand', 'cities/bangkok')], 'food -> countries': [('food/baguette', 'countries/france'), ('food/sushi', 'countries/japan'), ('food/pizza', 'countries/italy')], 'building -> countries': [('building/capitol', 'countries/usa'), ('building/china_wall', 'countries/china'), ('building/colosseum', 'countries/italy'), ('building/eiffle', 'countries/france'), ('building/kremlin', 'countries/russia'), ('building/pisa', 'countries/italy'), ('building/pyramid', 'countries/egypt'), ('building/taj_mahal', 'countries/india')], 'leaders -> flags': [('leaders/angela_merkel', 'flags/germany'), ('leaders/boris_johnson', 'flags/england'), ('leaders/david_cameron', 'flags/england'), ('leaders/hillary', 'flags/usa'), ('leaders/justin_trudeau', 'flags/canada'), ('leaders/obama', 'flags/usa'), ('leaders/putin', 'flags/russia'), ('leaders/queen_elizabeth', 'flags/england'), ('leaders/trump', 'flags/usa'), ('leaders/xi_jinping', 'flags/china')]}\n"
     ]
    }
   ],
   "source": [
    "relations[\"CEOs -> companies\"] = Companies\n",
    "relations[\"flags -> capital\"] = Capitals\n",
    "relations[\"food -> countries\"] = Food\n",
    "relations[\"building -> countries\"] = Buildings\n",
    "relations[\"leaders -> flags\"] = Leaders\n",
    "print(relations)"
   ]
  },
  {
   "cell_type": "code",
   "execution_count": 4,
   "id": "45e8ffab",
   "metadata": {},
   "outputs": [
    {
     "name": "stdout",
     "output_type": "stream",
     "text": [
      "dictionary saved successfully to file\n"
     ]
    }
   ],
   "source": [
    "with open('relations_dict.pkl', 'wb') as fp:\n",
    "    pickle.dump(relations, fp)\n",
    "    print('dictionary saved successfully to file')"
   ]
  }
 ],
 "metadata": {
  "kernelspec": {
   "display_name": "Python 3 (ipykernel)",
   "language": "python",
   "name": "python3"
  },
  "language_info": {
   "codemirror_mode": {
    "name": "ipython",
    "version": 3
   },
   "file_extension": ".py",
   "mimetype": "text/x-python",
   "name": "python",
   "nbconvert_exporter": "python",
   "pygments_lexer": "ipython3",
   "version": "3.10.11"
  }
 },
 "nbformat": 4,
 "nbformat_minor": 5
}
