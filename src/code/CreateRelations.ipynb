{
 "cells": [
  {
   "attachments": {},
   "cell_type": "markdown",
   "id": "95b0a75c",
   "metadata": {},
   "source": [
    "This notebook was used to create a dictionary of all the relations specified in the Visual Relations Benchmark dataset."
   ]
  },
  {
   "attachments": {},
   "cell_type": "markdown",
   "id": "5a6a8474",
   "metadata": {},
   "source": [
    "### Load modules"
   ]
  },
  {
   "cell_type": "code",
   "execution_count": 1,
   "id": "e9452899",
   "metadata": {},
   "outputs": [],
   "source": [
    "import pickle"
   ]
  },
  {
   "attachments": {},
   "cell_type": "markdown",
   "id": "95f03e6c",
   "metadata": {},
   "source": [
    "### Load the defined relations of the benchmark"
   ]
  },
  {
   "cell_type": "code",
   "execution_count": 2,
   "id": "8da2bd5d",
   "metadata": {},
   "outputs": [],
   "source": [
    "\n",
    "relations = {}\n",
    "\n",
    "Capitals = [('flags/china', 'cities/beijing'),\n",
    "('flags/egypt', 'cities/cairo'),\n",
    "('flags/australia', 'cities/canberra'),\n",
    "('flags/cuba', 'cities/havana'),\n",
    "('flags/afghanistan', 'cities/kabul'),\n",
    "('flags/england', 'cities/london'),\n",
    "('flags/japan', 'cities/tokyo'),\n",
    "('flags/russia', 'cities/moscow'),\n",
    "('flags/france', 'cities/paris'),\n",
    "('flags/usa', 'cities/washington'), # corrected typo\n",
    "('flags/germany', 'cities/berlin'),\n",
    "('flags/thailand', 'cities/bangkok')]\n",
    "\n",
    "Companies = [('companies/facebook', 'CEOs/mark_zuckerberg'),\n",
    "('companies/microsoft', 'CEOs/bill_gates'),\n",
    "('companies/tesla', 'CEOs/elon_musk'),\n",
    "('companies/amazon', 'CEOs/jeff_bezos'),\n",
    "('companies/apple', 'CEOs/steve_jobs')]\n",
    "\n",
    "Food = [('countries/france', 'food/baguette'),\n",
    "('countries/japan', 'food/sushi'),\n",
    "('countries/italy', 'food/pizza')]\n",
    "\n",
    "Buildings = [('countries/usa', 'building/capitol'),\n",
    "('countries/china', 'building/china_wall'),\n",
    "('countries/italy', 'building/colosseum'),\n",
    "('countries/france', 'building/eiffle'),\n",
    "('countries/russia', 'building/kremlin'),\n",
    "('countries/italy', 'building/pisa'),\n",
    "('countries/egypt', 'building/pyramid'),\n",
    "('countries/india', 'building/taj_mahal')]\n",
    "\n",
    "Leaders = [('flags/germany', 'leaders/angela_merkel'),\n",
    "('flags/england', 'leaders/boris_johnson'),\n",
    "('flags/england', 'leaders/david_cameron'),\n",
    "('flags/usa', 'leaders/hillary'),\n",
    "('flags/canada', 'leaders/justin_trudeau'),\n",
    "('flags/usa', 'leaders/obama'),\n",
    "('flags/russia', 'leaders/putin'),\n",
    "('flags/england', 'leaders/queen_elizabeth'),\n",
    "('flags/usa', 'leaders/trump'),\n",
    "('flags/china', 'leaders/xi_jinping')]"
   ]
  },
  {
   "attachments": {},
   "cell_type": "markdown",
   "id": "69aa50ec",
   "metadata": {},
   "source": [
    "### Create and save the dictionary"
   ]
  },
  {
   "cell_type": "code",
   "execution_count": 3,
   "id": "f0dc1a53",
   "metadata": {},
   "outputs": [
    {
     "name": "stdout",
     "output_type": "stream",
     "text": [
      "{'companies -> CEOs': [('companies/facebook', 'CEOs/mark_zuckerberg'), ('companies/microsoft', 'CEOs/bill_gates'), ('companies/tesla', 'CEOs/elon_musk'), ('companies/amazon', 'CEOs/jeff_bezos'), ('companies/apple', 'CEOs/steve_jobs')], 'flags -> capital': [('flags/china', 'cities/beijing'), ('flags/egypt', 'cities/cairo'), ('flags/australia', 'cities/canberra'), ('flags/cuba', 'cities/havana'), ('flags/afghanistan', 'cities/kabul'), ('flags/england', 'cities/london'), ('flags/japan', 'cities/tokyo'), ('flags/russia', 'cities/moscow'), ('flags/france', 'cities/paris'), ('flags/usa', 'cities/washington'), ('flags/germany', 'cities/berlin'), ('flags/thailand', 'cities/bangkok')], 'countries -> food': [('countries/france', 'food/baguette'), ('countries/japan', 'food/sushi'), ('countries/italy', 'food/pizza')], 'countries -> building': [('countries/usa', 'building/capitol'), ('countries/china', 'building/china_wall'), ('countries/italy', 'building/colosseum'), ('countries/france', 'building/eiffle'), ('countries/russia', 'building/kremlin'), ('countries/italy', 'building/pisa'), ('countries/egypt', 'building/pyramid'), ('countries/india', 'building/taj_mahal')], 'flags -> leaders': [('flags/germany', 'leaders/angela_merkel'), ('flags/england', 'leaders/boris_johnson'), ('flags/england', 'leaders/david_cameron'), ('flags/usa', 'leaders/hillary'), ('flags/canada', 'leaders/justin_trudeau'), ('flags/usa', 'leaders/obama'), ('flags/russia', 'leaders/putin'), ('flags/england', 'leaders/queen_elizabeth'), ('flags/usa', 'leaders/trump'), ('flags/china', 'leaders/xi_jinping')]}\n"
     ]
    }
   ],
   "source": [
    "relations[\"companies -> CEOs\"] = Companies\n",
    "relations[\"flags -> capital\"] = Capitals\n",
    "relations[\"countries -> food\"] = Food\n",
    "relations[\"countries -> building\"] = Buildings\n",
    "relations[\"flags -> leaders\"] = Leaders\n",
    "print(relations)"
   ]
  },
  {
   "cell_type": "code",
   "execution_count": 4,
   "id": "45e8ffab",
   "metadata": {},
   "outputs": [
    {
     "name": "stdout",
     "output_type": "stream",
     "text": [
      "dictionary saved successfully to file\n"
     ]
    }
   ],
   "source": [
    "with open('relations_dict.pkl', 'wb') as fp:\n",
    "    pickle.dump(relations, fp)\n",
    "    print('dictionary saved successfully to file')"
   ]
  },
  {
   "cell_type": "code",
   "execution_count": null,
   "id": "f4c02bac",
   "metadata": {},
   "outputs": [],
   "source": []
  }
 ],
 "metadata": {
  "kernelspec": {
   "display_name": "Python 3 (ipykernel)",
   "language": "python",
   "name": "python3"
  },
  "language_info": {
   "codemirror_mode": {
    "name": "ipython",
    "version": 3
   },
   "file_extension": ".py",
   "mimetype": "text/x-python",
   "name": "python",
   "nbconvert_exporter": "python",
   "pygments_lexer": "ipython3",
   "version": "3.10.11"
  }
 },
 "nbformat": 4,
 "nbformat_minor": 5
}
