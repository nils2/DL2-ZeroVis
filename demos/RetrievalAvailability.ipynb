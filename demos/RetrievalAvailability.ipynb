{
 "cells": [
  {
   "attachments": {},
   "cell_type": "markdown",
   "metadata": {},
   "source": [
    "In this notebook a small ablation into the availability of the dataset images in the retrieval dataset. For example whether it is able to depict the image of the city canberra, in order to determine wheter performance is due to absence of certain images for retrieval."
   ]
  },
  {
   "attachments": {},
   "cell_type": "markdown",
   "metadata": {},
   "source": [
    "### Load in packages"
   ]
  },
  {
   "cell_type": "code",
   "execution_count": 1,
   "metadata": {},
   "outputs": [],
   "source": [
    "import numpy as np\n",
    "import copy\n",
    "import torch\n",
    "import pickle\n",
    "from transformers import logging\n",
    "logging.set_verbosity_error()\n",
    "\n",
    "from PIL import Image\n",
    "#!pip install matplotlib\n",
    "import matplotlib.pyplot as plt\n",
    "\n",
    "import sys\n",
    "sys.path.insert(1,\"..\")\n",
    "\n",
    "from src.fromage_inf.fromage import models\n",
    "from src.fromage_inf.fromage import utils"
   ]
  },
  {
   "cell_type": "code",
   "execution_count": 2,
   "metadata": {},
   "outputs": [
    {
     "name": "stdout",
     "output_type": "stream",
     "text": [
      "Using facebook/opt-6.7b for the language model.\n",
      "Freezing the LM.\n",
      "Initializing embedding for the retrieval token [RET] (id = 50266).\n"
     ]
    }
   ],
   "source": [
    "def trunc_caption(caption: str) -> str:\n",
    "    # Truncate at period.\n",
    "    trunc_index = caption.find('.') + 1\n",
    "    if trunc_index < 0:\n",
    "        trunc_index = caption.find('\\n') + 1\n",
    "    caption = caption[:trunc_index]\n",
    "    return caption\n",
    "\n",
    "def display_interleaved_outputs(model_outputs, one_img_per_ret=True):\n",
    "    for output in model_outputs:\n",
    "        if type(output) == str:\n",
    "            print(output)\n",
    "        elif type(output) == list:\n",
    "            # Use this to display the single prompt image\n",
    "            if one_img_per_ret:\n",
    "                image = Image.open(\"../benchmark/\" + output[0] + \".jpg\")\n",
    "                image = image.resize((224, 224))\n",
    "                image = image.convert('RGB')\n",
    "                display(image)\n",
    "            # Use this to display the RET image/s\n",
    "            else:\n",
    "                fig, ax = plt.subplots(1, len(output), figsize=(3 * len(output), 3))\n",
    "                for i, (img, k) in enumerate(output):\n",
    "                    image = np.array(img)\n",
    "                    ax[i].imshow(img)\n",
    "                    ax[i].set_title(f'Retrieval #{i+1} - K #{k+1}')\n",
    "                plt.show()\n",
    "\n",
    "\n",
    "# Load model used in the paper.\n",
    "model_dir = '../src/fromage_inf/fromage_model/'\n",
    "model = models.load_fromage(model_dir)\n",
    "\n",
    "# Load the relations dictionary to make the relations.\n",
    "relations = pickle.load(open(\"../src/code/relations_dict.pkl\", \"rb\"))"
   ]
  },
  {
   "attachments": {},
   "cell_type": "markdown",
   "metadata": {},
   "source": [
    "### Retrieve all dataset images"
   ]
  },
  {
   "cell_type": "code",
   "execution_count": 3,
   "metadata": {},
   "outputs": [
    {
     "name": "stdout",
     "output_type": "stream",
     "text": [
      "Prompt:\n",
      "Image of facebook the companie\n",
      "[RET]\n",
      "==============================\n",
      "Model generated outputs:\n"
     ]
    },
    {
     "ename": "TypeError",
     "evalue": "cannot unpack non-iterable Image object",
     "output_type": "error",
     "traceback": [
      "\u001b[0;31m---------------------------------------------------------------------------\u001b[0m",
      "\u001b[0;31mTypeError\u001b[0m                                 Traceback (most recent call last)",
      "Cell \u001b[0;32mIn[3], line 19\u001b[0m\n\u001b[1;32m     17\u001b[0m \u001b[39m# Display outputs.\u001b[39;00m\n\u001b[1;32m     18\u001b[0m \u001b[39mprint\u001b[39m(\u001b[39m'\u001b[39m\u001b[39mModel generated outputs:\u001b[39m\u001b[39m'\u001b[39m)\n\u001b[0;32m---> 19\u001b[0m display_interleaved_outputs(model_outputs, one_img_per_ret\u001b[39m=\u001b[39;49m\u001b[39mFalse\u001b[39;49;00m)\n",
      "Cell \u001b[0;32mIn[2], line 23\u001b[0m, in \u001b[0;36mdisplay_interleaved_outputs\u001b[0;34m(model_outputs, one_img_per_ret)\u001b[0m\n\u001b[1;32m     20\u001b[0m \u001b[39m# Use this to display the RET image/s\u001b[39;00m\n\u001b[1;32m     21\u001b[0m \u001b[39melse\u001b[39;00m:\n\u001b[1;32m     22\u001b[0m     fig, ax \u001b[39m=\u001b[39m plt\u001b[39m.\u001b[39msubplots(\u001b[39m1\u001b[39m, \u001b[39mlen\u001b[39m(output), figsize\u001b[39m=\u001b[39m(\u001b[39m3\u001b[39m \u001b[39m*\u001b[39m \u001b[39mlen\u001b[39m(output), \u001b[39m3\u001b[39m))\n\u001b[0;32m---> 23\u001b[0m     \u001b[39mfor\u001b[39;00m i, (img, k) \u001b[39min\u001b[39;00m \u001b[39menumerate\u001b[39m(output):\n\u001b[1;32m     24\u001b[0m         image \u001b[39m=\u001b[39m np\u001b[39m.\u001b[39marray(img)\n\u001b[1;32m     25\u001b[0m         ax[i]\u001b[39m.\u001b[39mimshow(img)\n",
      "\u001b[0;31mTypeError\u001b[0m: cannot unpack non-iterable Image object"
     ]
    },
    {
     "data": {
      "image/png": "[encoded data removed]",
      "text/plain": [
       "<Figure size 900x300 with 3 Axes>"
      ]
     },
     "metadata": {},
     "output_type": "display_data"
    }
   ],
   "source": [
    "already_prompted = []\n",
    "\n",
    "for values in relations.values():\n",
    "    for relation in values:\n",
    "        for image in relation:\n",
    "            # \n",
    "            if image not in already_prompted:\n",
    "                already_prompted.append(image)\n",
    "                r = image.split(\"/\")\n",
    "                prompt = [\"Image of {} the {}\".format(r[1].replace(\"_\",\" \"), r[0].replace(\"s\",\"\")), \"[RET]\"]\n",
    "\n",
    "                print('Prompt:')\n",
    "                display_interleaved_outputs(prompt)\n",
    "                print('=' * 30)\n",
    "                model_outputs = model.generate_for_images_and_texts(prompt, max_img_per_ret=3)\n",
    "\n",
    "                # Display outputs.\n",
    "                print('Model generated outputs:')\n",
    "                display_interleaved_outputs(model_outputs, one_img_per_ret=False)"
   ]
  },
  {
   "cell_type": "code",
   "execution_count": null,
   "metadata": {},
   "outputs": [],
   "source": []
  }
 ],
 "metadata": {
  "kernelspec": {
   "display_name": "dl2",
   "language": "python",
   "name": "python3"
  },
  "language_info": {
   "codemirror_mode": {
    "name": "ipython",
    "version": 3
   },
   "file_extension": ".py",
   "mimetype": "text/x-python",
   "name": "python",
   "nbconvert_exporter": "python",
   "pygments_lexer": "ipython3",
   "version": "3.10.11"
  },
  "orig_nbformat": 4
 },
 "nbformat": 4,
 "nbformat_minor": 2
}
